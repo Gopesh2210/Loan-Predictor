{
 "cells": [
  {
   "cell_type": "code",
   "execution_count": 1,
   "metadata": {},
   "outputs": [],
   "source": [
    "import pandas as pd"
   ]
  },
  {
   "cell_type": "code",
   "execution_count": 33,
   "metadata": {},
   "outputs": [],
   "source": [
    "df = pd.read_csv('credit_train_edited_version.csv')\n",
    "id = df.loc[35000].values[0]"
   ]
  },
  {
   "cell_type": "code",
   "execution_count": 34,
   "metadata": {},
   "outputs": [
    {
     "name": "stdout",
     "output_type": "stream",
     "text": [
      "['7cec671c-88dd-42df-b32d-2c0b7dea95fb'\n",
      " 'fa3ea4c3-d657-4a12-a133-7881a5e0c04d' 'Fully Paid' 224884 'Short Term'\n",
      " 748 718599 '4 years' 'Home Mortgage' 'Debt Consolidation' 16827.35 14.7\n",
      " 13 0 1995 772090 0 0 1]\n"
     ]
    }
   ],
   "source": [
    "def search_cid(id):\n",
    "    for i in range(len(df)):\n",
    "        tmp = df.loc[i].values\n",
    "        if tmp[0] == id:\n",
    "            return tmp\n",
    "print(search_cid(id))"
   ]
  },
  {
   "cell_type": "code",
   "execution_count": 36,
   "metadata": {},
   "outputs": [
    {
     "data": {
      "text/plain": [
       "array(['7cec671c-88dd-42df-b32d-2c0b7dea95fb',\n",
       "       'fa3ea4c3-d657-4a12-a133-7881a5e0c04d', 'Fully Paid', 224884,\n",
       "       'Short Term', 748, 718599, '4 years', 'Home Mortgage',\n",
       "       'Debt Consolidation', 16827.35, 14.7, 13, 0, 1995, 772090, 0, 0, 1],\n",
       "      dtype=object)"
      ]
     },
     "execution_count": 36,
     "metadata": {},
     "output_type": "execute_result"
    }
   ],
   "source": [
    "df.loc[35000].values\n"
   ]
  },
  {
   "cell_type": "code",
   "execution_count": null,
   "metadata": {},
   "outputs": [],
   "source": [
    "df['']"
   ]
  }
 ],
 "metadata": {
  "kernelspec": {
   "display_name": "Python 3",
   "language": "python",
   "name": "python3"
  },
  "language_info": {
   "codemirror_mode": {
    "name": "ipython",
    "version": 2
   },
   "file_extension": ".py",
   "mimetype": "text/x-python",
   "name": "python",
   "nbconvert_exporter": "python",
   "pygments_lexer": "ipython2",
   "version": "2.7.15"
  }
 },
 "nbformat": 4,
 "nbformat_minor": 2
}
